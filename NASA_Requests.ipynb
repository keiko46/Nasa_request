{
 "cells": [
  {
   "cell_type": "markdown",
   "metadata": {},
   "source": [
    "# NASA Requests"
   ]
  },
  {
   "cell_type": "code",
   "execution_count": null,
   "metadata": {},
   "outputs": [],
   "source": [
    "#Downalod e importação dos arquivos de log. \n",
    "URL = 'ftp://ita.ee.lbl.gov/traces/NASA_access_log_Jul95.gz'\n",
    "from urllib.request import urlretrieve\n",
    "urlretrieve(URL, 'NASA_access_log_Jul95.gz')"
   ]
  },
  {
   "cell_type": "code",
   "execution_count": null,
   "metadata": {},
   "outputs": [],
   "source": [
    "URL = 'ftp://ita.ee.lbl.gov/traces/NASA_access_log_Aug95.gz'\n",
    "from urllib.request import urlretrieve\n",
    "urlretrieve(URL, 'NASA_access_log_Aug95.gz')"
   ]
  },
  {
   "cell_type": "code",
   "execution_count": 1,
   "metadata": {},
   "outputs": [],
   "source": [
    "import gzip\n",
    "import shutil\n",
    "with gzip.open('NASA_access_log_Jul95.gz', 'rb') as f_in:\n",
    "    with open('NASA_access_log_Jul95.csv', 'wb') as f_out:\n",
    "        shutil.copyfileobj(f_in, f_out)"
   ]
  },
  {
   "cell_type": "code",
   "execution_count": 2,
   "metadata": {},
   "outputs": [],
   "source": [
    "import gzip\n",
    "import shutil\n",
    "with gzip.open('NASA_access_log_Aug95.gz', 'rb') as f_in:\n",
    "    with open('NASA_access_log_Aug95.csv', 'wb') as f_out:\n",
    "        shutil.copyfileobj(f_in, f_out)"
   ]
  },
  {
   "cell_type": "code",
   "execution_count": 3,
   "metadata": {},
   "outputs": [],
   "source": [
    "import csv\n",
    "with open('NASA_access_log_Jul95.csv') as csvfile:\n",
    "    readCSV = csv.reader(csvfile, delimiter=' ')"
   ]
  },
  {
   "cell_type": "code",
   "execution_count": 4,
   "metadata": {},
   "outputs": [],
   "source": [
    "import csv\n",
    "with open('NASA_access_log_Aug95.csv') as csvfile:\n",
    "    readCSV = csv.reader(csvfile, delimiter=' ')"
   ]
  },
  {
   "cell_type": "code",
   "execution_count": 5,
   "metadata": {},
   "outputs": [
    {
     "name": "stdout",
     "output_type": "stream",
     "text": [
      "<_csv.reader object at 0x0000000005091E18>\n"
     ]
    }
   ],
   "source": [
    "print(readCSV)"
   ]
  },
  {
   "cell_type": "code",
   "execution_count": 6,
   "metadata": {},
   "outputs": [],
   "source": [
    "import pandas as pd\n",
    "import numpy as np\n",
    "import csv\n",
    "column_names = ['Host','1','2','Timestamp','Timezone','Requisicao','Retorno_HTTP','Total_de_bytes_retornados']\n",
    "data = pd.read_csv('NASA_access_log_Jul95.csv', names=column_names, delimiter=' ', encoding='ISO-8859-1', low_memory=False)\n",
    "data.head()"
   ]
  },
  {
   "cell_type": "code",
   "execution_count": 31,
   "metadata": {},
   "outputs": [
    {
     "data": {
      "text/html": [
       "<div>\n",
       "<style scoped>\n",
       "    .dataframe tbody tr th:only-of-type {\n",
       "        vertical-align: middle;\n",
       "    }\n",
       "\n",
       "    .dataframe tbody tr th {\n",
       "        vertical-align: top;\n",
       "    }\n",
       "\n",
       "    .dataframe thead th {\n",
       "        text-align: right;\n",
       "    }\n",
       "</style>\n",
       "<table border=\"1\" class=\"dataframe\">\n",
       "  <thead>\n",
       "    <tr style=\"text-align: right;\">\n",
       "      <th></th>\n",
       "      <th>Host</th>\n",
       "      <th>1</th>\n",
       "      <th>2</th>\n",
       "      <th>Timestamp</th>\n",
       "      <th>Timezone</th>\n",
       "      <th>Requisicao</th>\n",
       "      <th>Retorno_HTTP</th>\n",
       "      <th>Total_de_bytes_retornados</th>\n",
       "    </tr>\n",
       "  </thead>\n",
       "  <tbody>\n",
       "    <tr>\n",
       "      <th>0</th>\n",
       "      <td>in24.inetnebr.com</td>\n",
       "      <td>-</td>\n",
       "      <td>-</td>\n",
       "      <td>[01/Aug/1995:00:00:01</td>\n",
       "      <td>-0400]</td>\n",
       "      <td>GET /shuttle/missions/sts-68/news/sts-68-mcc-0...</td>\n",
       "      <td>200</td>\n",
       "      <td>1839</td>\n",
       "    </tr>\n",
       "    <tr>\n",
       "      <th>1</th>\n",
       "      <td>uplherc.upl.com</td>\n",
       "      <td>-</td>\n",
       "      <td>-</td>\n",
       "      <td>[01/Aug/1995:00:00:07</td>\n",
       "      <td>-0400]</td>\n",
       "      <td>GET / HTTP/1.0</td>\n",
       "      <td>304</td>\n",
       "      <td>0</td>\n",
       "    </tr>\n",
       "    <tr>\n",
       "      <th>2</th>\n",
       "      <td>uplherc.upl.com</td>\n",
       "      <td>-</td>\n",
       "      <td>-</td>\n",
       "      <td>[01/Aug/1995:00:00:08</td>\n",
       "      <td>-0400]</td>\n",
       "      <td>GET /images/ksclogo-medium.gif HTTP/1.0</td>\n",
       "      <td>304</td>\n",
       "      <td>0</td>\n",
       "    </tr>\n",
       "    <tr>\n",
       "      <th>3</th>\n",
       "      <td>uplherc.upl.com</td>\n",
       "      <td>-</td>\n",
       "      <td>-</td>\n",
       "      <td>[01/Aug/1995:00:00:08</td>\n",
       "      <td>-0400]</td>\n",
       "      <td>GET /images/MOSAIC-logosmall.gif HTTP/1.0</td>\n",
       "      <td>304</td>\n",
       "      <td>0</td>\n",
       "    </tr>\n",
       "    <tr>\n",
       "      <th>4</th>\n",
       "      <td>uplherc.upl.com</td>\n",
       "      <td>-</td>\n",
       "      <td>-</td>\n",
       "      <td>[01/Aug/1995:00:00:08</td>\n",
       "      <td>-0400]</td>\n",
       "      <td>GET /images/USA-logosmall.gif HTTP/1.0</td>\n",
       "      <td>304</td>\n",
       "      <td>0</td>\n",
       "    </tr>\n",
       "  </tbody>\n",
       "</table>\n",
       "</div>"
      ],
      "text/plain": [
       "                Host  1  2              Timestamp Timezone  \\\n",
       "0  in24.inetnebr.com  -  -  [01/Aug/1995:00:00:01   -0400]   \n",
       "1    uplherc.upl.com  -  -  [01/Aug/1995:00:00:07   -0400]   \n",
       "2    uplherc.upl.com  -  -  [01/Aug/1995:00:00:08   -0400]   \n",
       "3    uplherc.upl.com  -  -  [01/Aug/1995:00:00:08   -0400]   \n",
       "4    uplherc.upl.com  -  -  [01/Aug/1995:00:00:08   -0400]   \n",
       "\n",
       "                                          Requisicao Retorno_HTTP  \\\n",
       "0  GET /shuttle/missions/sts-68/news/sts-68-mcc-0...          200   \n",
       "1                                     GET / HTTP/1.0          304   \n",
       "2            GET /images/ksclogo-medium.gif HTTP/1.0          304   \n",
       "3          GET /images/MOSAIC-logosmall.gif HTTP/1.0          304   \n",
       "4             GET /images/USA-logosmall.gif HTTP/1.0          304   \n",
       "\n",
       "  Total_de_bytes_retornados  \n",
       "0                      1839  \n",
       "1                         0  \n",
       "2                         0  \n",
       "3                         0  \n",
       "4                         0  "
      ]
     },
     "execution_count": 31,
     "metadata": {},
     "output_type": "execute_result"
    }
   ],
   "source": [
    "data2 = pd.read_csv('NASA_access_log_Aug95.csv', names=column_names, delimiter=' ', encoding='ISO-8859-1', low_memory=False)\n",
    "data2.head()"
   ]
  },
  {
   "cell_type": "code",
   "execution_count": 9,
   "metadata": {},
   "outputs": [
    {
     "data": {
      "text/html": [
       "<div>\n",
       "<style scoped>\n",
       "    .dataframe tbody tr th:only-of-type {\n",
       "        vertical-align: middle;\n",
       "    }\n",
       "\n",
       "    .dataframe tbody tr th {\n",
       "        vertical-align: top;\n",
       "    }\n",
       "\n",
       "    .dataframe thead th {\n",
       "        text-align: right;\n",
       "    }\n",
       "</style>\n",
       "<table border=\"1\" class=\"dataframe\">\n",
       "  <thead>\n",
       "    <tr style=\"text-align: right;\">\n",
       "      <th></th>\n",
       "      <th>Host</th>\n",
       "      <th>1</th>\n",
       "      <th>2</th>\n",
       "      <th>Timestamp</th>\n",
       "      <th>Timezone</th>\n",
       "      <th>Requisicao</th>\n",
       "      <th>Retorno_HTTP</th>\n",
       "      <th>Total_de_bytes_retornados</th>\n",
       "    </tr>\n",
       "  </thead>\n",
       "  <tbody>\n",
       "    <tr>\n",
       "      <th>0</th>\n",
       "      <td>199.72.81.55</td>\n",
       "      <td>-</td>\n",
       "      <td>-</td>\n",
       "      <td>[01/Jul/1995:00:00:01</td>\n",
       "      <td>-0400]</td>\n",
       "      <td>GET /history/apollo/ HTTP/1.0</td>\n",
       "      <td>200</td>\n",
       "      <td>6245</td>\n",
       "    </tr>\n",
       "    <tr>\n",
       "      <th>1</th>\n",
       "      <td>unicomp6.unicomp.net</td>\n",
       "      <td>-</td>\n",
       "      <td>-</td>\n",
       "      <td>[01/Jul/1995:00:00:06</td>\n",
       "      <td>-0400]</td>\n",
       "      <td>GET /shuttle/countdown/ HTTP/1.0</td>\n",
       "      <td>200</td>\n",
       "      <td>3985</td>\n",
       "    </tr>\n",
       "    <tr>\n",
       "      <th>2</th>\n",
       "      <td>199.120.110.21</td>\n",
       "      <td>-</td>\n",
       "      <td>-</td>\n",
       "      <td>[01/Jul/1995:00:00:09</td>\n",
       "      <td>-0400]</td>\n",
       "      <td>GET /shuttle/missions/sts-73/mission-sts-73.ht...</td>\n",
       "      <td>200</td>\n",
       "      <td>4085</td>\n",
       "    </tr>\n",
       "    <tr>\n",
       "      <th>3</th>\n",
       "      <td>burger.letters.com</td>\n",
       "      <td>-</td>\n",
       "      <td>-</td>\n",
       "      <td>[01/Jul/1995:00:00:11</td>\n",
       "      <td>-0400]</td>\n",
       "      <td>GET /shuttle/countdown/liftoff.html HTTP/1.0</td>\n",
       "      <td>304</td>\n",
       "      <td>0</td>\n",
       "    </tr>\n",
       "    <tr>\n",
       "      <th>4</th>\n",
       "      <td>199.120.110.21</td>\n",
       "      <td>-</td>\n",
       "      <td>-</td>\n",
       "      <td>[01/Jul/1995:00:00:11</td>\n",
       "      <td>-0400]</td>\n",
       "      <td>GET /shuttle/missions/sts-73/sts-73-patch-smal...</td>\n",
       "      <td>200</td>\n",
       "      <td>4179</td>\n",
       "    </tr>\n",
       "  </tbody>\n",
       "</table>\n",
       "</div>"
      ],
      "text/plain": [
       "                   Host  1  2              Timestamp Timezone  \\\n",
       "0          199.72.81.55  -  -  [01/Jul/1995:00:00:01   -0400]   \n",
       "1  unicomp6.unicomp.net  -  -  [01/Jul/1995:00:00:06   -0400]   \n",
       "2        199.120.110.21  -  -  [01/Jul/1995:00:00:09   -0400]   \n",
       "3    burger.letters.com  -  -  [01/Jul/1995:00:00:11   -0400]   \n",
       "4        199.120.110.21  -  -  [01/Jul/1995:00:00:11   -0400]   \n",
       "\n",
       "                                          Requisicao Retorno_HTTP  \\\n",
       "0                      GET /history/apollo/ HTTP/1.0          200   \n",
       "1                   GET /shuttle/countdown/ HTTP/1.0          200   \n",
       "2  GET /shuttle/missions/sts-73/mission-sts-73.ht...          200   \n",
       "3       GET /shuttle/countdown/liftoff.html HTTP/1.0          304   \n",
       "4  GET /shuttle/missions/sts-73/sts-73-patch-smal...          200   \n",
       "\n",
       "  Total_de_bytes_retornados  \n",
       "0                      6245  \n",
       "1                      3985  \n",
       "2                      4085  \n",
       "3                         0  \n",
       "4                      4179  "
      ]
     },
     "execution_count": 9,
     "metadata": {},
     "output_type": "execute_result"
    }
   ],
   "source": [
    "#Junção dos 2 logs num único dataset \n",
    "frames = [data, data2]\n",
    "result = pd.concat(frames)\n",
    "result.head()"
   ]
  },
  {
   "cell_type": "code",
   "execution_count": 10,
   "metadata": {},
   "outputs": [
    {
     "data": {
      "text/plain": [
       "137979"
      ]
     },
     "execution_count": 10,
     "metadata": {},
     "output_type": "execute_result"
    }
   ],
   "source": [
    "#Pergunta 1:Numero de hosts unicos \n",
    "df = result.groupby('Host').nunique()\n",
    "df['Host'].count()"
   ]
  },
  {
   "cell_type": "code",
   "execution_count": 11,
   "metadata": {},
   "outputs": [
    {
     "data": {
      "text/plain": [
       "Retorno_HTTP\n",
       "200                  3100521\n",
       "302                    73070\n",
       "304                   266773\n",
       "400                       15\n",
       "403                      224\n",
       "404                    20872\n",
       "500                       65\n",
       "501                       41\n",
       "HTTP/1.0\"                 29\n",
       "images/ssbuv1.gif          1\n",
       "of                         1\n",
       "Name: Retorno_HTTP, dtype: int64"
      ]
     },
     "execution_count": 11,
     "metadata": {},
     "output_type": "execute_result"
    }
   ],
   "source": [
    "#Pergunta 2: Total de erros 404 \n",
    "result.groupby('Retorno_HTTP').Retorno_HTTP.count()"
   ]
  },
  {
   "cell_type": "code",
   "execution_count": 28,
   "metadata": {},
   "outputs": [
    {
     "data": {
      "text/plain": [
       "Host\n",
       "hoohoo.ncsa.uiuc.edu           251\n",
       "piweba3y.prodigy.com           156\n",
       "jbiagioni.npt.nuwc.navy.mil    132\n",
       "piweba1y.prodigy.com           114\n",
       "www-d4.proxy.aol.com            91\n",
       "Name: Host, dtype: int64"
      ]
     },
     "execution_count": 28,
     "metadata": {},
     "output_type": "execute_result"
    }
   ],
   "source": [
    "#Pergunta 3: Os 5 URLs que mais causaram erro 404\n",
    "is_404 = result['Retorno_HTTP'].str.contains('404', case=False, na=False)\n",
    "result[is_404].groupby('Host').Host.count().sort_values(ascending=False).head(5)"
   ]
  },
  {
   "cell_type": "code",
   "execution_count": 46,
   "metadata": {},
   "outputs": [
    {
     "data": {
      "text/plain": [
       "datetime.datetime(1995, 7, 1, 0, 0, 1)"
      ]
     },
     "execution_count": 46,
     "metadata": {},
     "output_type": "execute_result"
    }
   ],
   "source": [
    "import datetime as dt\n",
    "from datetime import datetime\n",
    "\n",
    "date_str1 = df.['Timestamp'].iloc(0)\n",
    "date_dt1 = datetime.strptime(date_str1, '[%d/%b/%Y:%H:%M:%S')\n",
    "date_dt1"
   ]
  },
  {
   "cell_type": "code",
   "execution_count": 49,
   "metadata": {},
   "outputs": [
    {
     "ename": "TypeError",
     "evalue": "strptime() argument 1 must be str, not Series",
     "output_type": "error",
     "traceback": [
      "\u001b[1;31m---------------------------------------------------------------------------\u001b[0m",
      "\u001b[1;31mTypeError\u001b[0m                                 Traceback (most recent call last)",
      "\u001b[1;32m<ipython-input-49-74430058391e>\u001b[0m in \u001b[0;36m<module>\u001b[1;34m()\u001b[0m\n\u001b[0;32m      2\u001b[0m \u001b[1;31m#result[is_404].groupby('Timestamp').Host.count()\u001b[0m\u001b[1;33m\u001b[0m\u001b[1;33m\u001b[0m\u001b[0m\n\u001b[0;32m      3\u001b[0m \u001b[0mdf\u001b[0m \u001b[1;33m=\u001b[0m \u001b[0mresult\u001b[0m\u001b[1;33m\u001b[0m\u001b[0m\n\u001b[1;32m----> 4\u001b[1;33m \u001b[0mdf\u001b[0m\u001b[1;33m[\u001b[0m\u001b[1;34m'date'\u001b[0m\u001b[1;33m]\u001b[0m \u001b[1;33m=\u001b[0m \u001b[0mdatetime\u001b[0m\u001b[1;33m.\u001b[0m\u001b[0mstrptime\u001b[0m\u001b[1;33m(\u001b[0m\u001b[0mdf\u001b[0m\u001b[1;33m[\u001b[0m\u001b[1;34m'Timestamp'\u001b[0m\u001b[1;33m]\u001b[0m\u001b[1;33m,\u001b[0m \u001b[1;34m'[%d/%b/%Y:%H:%M:%S'\u001b[0m\u001b[1;33m)\u001b[0m\u001b[1;33m\u001b[0m\u001b[0m\n\u001b[0m\u001b[0;32m      5\u001b[0m \u001b[0mdf\u001b[0m\u001b[1;33m.\u001b[0m\u001b[0mhead\u001b[0m\u001b[1;33m(\u001b[0m\u001b[1;33m)\u001b[0m\u001b[1;33m\u001b[0m\u001b[0m\n",
      "\u001b[1;31mTypeError\u001b[0m: strptime() argument 1 must be str, not Series"
     ]
    }
   ],
   "source": [
    "#Pergunta 4: Quantidade de erros 404 por dia\n",
    "#result[is_404].groupby('Timestamp').Host.count()\n",
    "df = result\n",
    "df['date'] = df['Timestamp'].dt.date\n",
    "df.head()"
   ]
  },
  {
   "cell_type": "code",
   "execution_count": null,
   "metadata": {},
   "outputs": [],
   "source": [
    "#Pergunta 5: A soma total dos bytes retornados\n",
    "result.Total_de_bytes_retornados.sum()"
   ]
  }
 ],
 "metadata": {
  "kernelspec": {
   "display_name": "Python 3",
   "language": "python",
   "name": "python3"
  },
  "language_info": {
   "codemirror_mode": {
    "name": "ipython",
    "version": 3
   },
   "file_extension": ".py",
   "mimetype": "text/x-python",
   "name": "python",
   "nbconvert_exporter": "python",
   "pygments_lexer": "ipython3",
   "version": "3.7.0"
  }
 },
 "nbformat": 4,
 "nbformat_minor": 2
}
